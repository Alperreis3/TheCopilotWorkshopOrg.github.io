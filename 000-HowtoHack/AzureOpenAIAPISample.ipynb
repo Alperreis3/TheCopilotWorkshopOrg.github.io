{
 "cells": [
  {
   "cell_type": "code",
   "execution_count": null,
   "metadata": {},
   "outputs": [],
   "source": [
    "!pip install openai"
   ]
  },
  {
   "cell_type": "code",
   "execution_count": null,
   "metadata": {},
   "outputs": [],
   "source": [
    "import openai\n",
    "from azure.identity import DefaultAzureCredential"
   ]
  },
  {
   "cell_type": "code",
   "execution_count": null,
   "metadata": {},
   "outputs": [],
   "source": [
    "azure_credential = DefaultAzureCredential()\n",
    "ad_token = azure_credential.get_token(\"https://cognitiveservices.azure.com/.default\")"
   ]
  },
  {
   "cell_type": "code",
   "execution_count": null,
   "metadata": {},
   "outputs": [],
   "source": [
    "apim_gateway_url = 'https://aoaiapim.azure-api.net'\n",
    "team_name = 'accurate-hog'\n",
    "api_base = f'{apim_gateway_url}/{team_name}'\n",
    "\n",
    "openai.api_type = 'azure_ad'\n",
    "openai.api_key = ad_token.token\n",
    "openai.api_base = api_base\n",
    "print(f'Currently using the following OpenAI endpoint: {openai.api_base}')\n",
    "openai.api_version = '2023-03-15-preview'\n",
    "print(f'Currently using the folllowing OpenAI API version: {openai.api_version}') \n",
    "engine = 'gpt-35-turbo-16k'\n",
    "print(f'Currently targetting the following OPENAI model: {engine}')\n",
    "\n",
    "messages = [{'role': 'user', 'content': 'write me a poem about baked potatoes'}]\n",
    "\n",
    "full_openai_chat_response = openai.ChatCompletion.create(engine=engine, messages=messages)\n",
    "\n",
    "if not full_openai_chat_response.choices[0].message.content:\n",
    "    print('OpenAI response was empty.')\n",
    "\n",
    "content = full_openai_chat_response.choices[0].message.content\n",
    "\n",
    "print(f'OpenAI response: {content}')"
   ]
  }
 ],
 "metadata": {
  "language_info": {
   "name": "python"
  }
 },
 "nbformat": 4,
 "nbformat_minor": 2
}
